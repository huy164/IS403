{
 "cells": [
  {
   "cell_type": "code",
   "execution_count": 1,
   "id": "14d7e7f5",
   "metadata": {},
   "outputs": [],
   "source": [
    "import pandas as pd\n",
    "import numpy as np\n",
    "import matplotlib.pyplot as plt\n",
    "from statsmodels.tsa.holtwinters import ExponentialSmoothing\n",
    "from sklearn.metrics import mean_squared_error\n",
    "\n",
    "# Load the dataset\n",
    "data_url = 'https://raw.githubusercontent.com/huy164/datasets/master/walmart_stock_price.csv'\n",
    "df = pd.read_csv(data_url)\n",
    "\n",
    "df = df[['Close']]\n",
    "df = df.dropna() # Drop missing values\n",
    "df = df.reset_index(drop=True) # Reset the index\n",
    "\n",
    "# Split the dataset\n",
    "train_size = int(len(df) * 0.7)\n",
    "test_size = int(len(df) * 0.2)\n",
    "validate_size = len(df) - train_size - test_size\n",
    "\n",
    "train_data = df[:train_size]['Close']\n",
    "test_data = df[train_size:train_size+test_size]['Close']\n",
    "validate_data = df[train_size+test_size:]['Close']\n"
   ]
  },
  {
   "cell_type": "code",
   "execution_count": 2,
   "id": "20a3e068",
   "metadata": {},
   "outputs": [
    {
     "data": {
      "text/html": [
       "<div>\n",
       "<style scoped>\n",
       "    .dataframe tbody tr th:only-of-type {\n",
       "        vertical-align: middle;\n",
       "    }\n",
       "\n",
       "    .dataframe tbody tr th {\n",
       "        vertical-align: top;\n",
       "    }\n",
       "\n",
       "    .dataframe thead th {\n",
       "        text-align: right;\n",
       "    }\n",
       "</style>\n",
       "<table border=\"1\" class=\"dataframe\">\n",
       "  <thead>\n",
       "    <tr style=\"text-align: right;\">\n",
       "      <th></th>\n",
       "      <th>Close</th>\n",
       "    </tr>\n",
       "  </thead>\n",
       "  <tbody>\n",
       "    <tr>\n",
       "      <th>0</th>\n",
       "      <td>0.064453</td>\n",
       "    </tr>\n",
       "    <tr>\n",
       "      <th>1</th>\n",
       "      <td>0.064209</td>\n",
       "    </tr>\n",
       "    <tr>\n",
       "      <th>2</th>\n",
       "      <td>0.063477</td>\n",
       "    </tr>\n",
       "    <tr>\n",
       "      <th>3</th>\n",
       "      <td>0.063477</td>\n",
       "    </tr>\n",
       "    <tr>\n",
       "      <th>4</th>\n",
       "      <td>0.062500</td>\n",
       "    </tr>\n",
       "    <tr>\n",
       "      <th>...</th>\n",
       "      <td>...</td>\n",
       "    </tr>\n",
       "    <tr>\n",
       "      <th>12486</th>\n",
       "      <td>136.160004</td>\n",
       "    </tr>\n",
       "    <tr>\n",
       "      <th>12487</th>\n",
       "      <td>139.289993</td>\n",
       "    </tr>\n",
       "    <tr>\n",
       "      <th>12488</th>\n",
       "      <td>142.820007</td>\n",
       "    </tr>\n",
       "    <tr>\n",
       "      <th>12489</th>\n",
       "      <td>141.669998</td>\n",
       "    </tr>\n",
       "    <tr>\n",
       "      <th>12490</th>\n",
       "      <td>141.669998</td>\n",
       "    </tr>\n",
       "  </tbody>\n",
       "</table>\n",
       "<p>12491 rows × 1 columns</p>\n",
       "</div>"
      ],
      "text/plain": [
       "            Close\n",
       "0        0.064453\n",
       "1        0.064209\n",
       "2        0.063477\n",
       "3        0.063477\n",
       "4        0.062500\n",
       "...           ...\n",
       "12486  136.160004\n",
       "12487  139.289993\n",
       "12488  142.820007\n",
       "12489  141.669998\n",
       "12490  141.669998\n",
       "\n",
       "[12491 rows x 1 columns]"
      ]
     },
     "execution_count": 2,
     "metadata": {},
     "output_type": "execute_result"
    }
   ],
   "source": [
    "df"
   ]
  },
  {
   "cell_type": "code",
   "execution_count": 3,
   "id": "242ae2a0",
   "metadata": {},
   "outputs": [
    {
     "data": {
      "text/plain": [
       "0        0.064453\n",
       "1        0.064209\n",
       "2        0.063477\n",
       "3        0.063477\n",
       "4        0.062500\n",
       "          ...    \n",
       "8738    47.410000\n",
       "8739    48.070000\n",
       "8740    48.169998\n",
       "8741    47.970001\n",
       "8742    48.340000\n",
       "Name: Close, Length: 8743, dtype: float64"
      ]
     },
     "execution_count": 3,
     "metadata": {},
     "output_type": "execute_result"
    }
   ],
   "source": [
    "train_data"
   ]
  },
  {
   "cell_type": "code",
   "execution_count": 4,
   "id": "c0940ecd",
   "metadata": {},
   "outputs": [
    {
     "data": {
      "text/plain": [
       "8743     49.759998\n",
       "8744     48.930000\n",
       "8745     48.689999\n",
       "8746     48.810001\n",
       "8747     48.700001\n",
       "           ...    \n",
       "11236    70.580002\n",
       "11237    70.440002\n",
       "11238    69.889999\n",
       "11239    69.980003\n",
       "11240    69.900002\n",
       "Name: Close, Length: 2498, dtype: float64"
      ]
     },
     "execution_count": 4,
     "metadata": {},
     "output_type": "execute_result"
    }
   ],
   "source": [
    "test_data"
   ]
  },
  {
   "cell_type": "code",
   "execution_count": 5,
   "id": "e0a06986",
   "metadata": {},
   "outputs": [
    {
     "data": {
      "text/plain": [
       "11241     70.250000\n",
       "11242     69.860001\n",
       "11243     69.610001\n",
       "11244     69.660004\n",
       "11245     70.320000\n",
       "            ...    \n",
       "12486    136.160004\n",
       "12487    139.289993\n",
       "12488    142.820007\n",
       "12489    141.669998\n",
       "12490    141.669998\n",
       "Name: Close, Length: 1250, dtype: float64"
      ]
     },
     "execution_count": 5,
     "metadata": {},
     "output_type": "execute_result"
    }
   ],
   "source": [
    "validate_data"
   ]
  },
  {
   "cell_type": "code",
   "execution_count": 6,
   "id": "2e372d4f",
   "metadata": {},
   "outputs": [
    {
     "name": "stdout",
     "output_type": "stream",
     "text": [
      "Test RMSE: 11.425212058764453\n",
      "Validate RMSE: 52.25968172090737\n"
     ]
    }
   ],
   "source": [
    "# Build the Holt-Winters model\n",
    "model = ExponentialSmoothing(train_data, trend='add', seasonal='add', seasonal_periods=7)\n",
    "model_fit = model.fit()\n",
    "\n",
    "# Predict for the test and validate sets\n",
    "test_predictions = model_fit.predict(start=test_data.index[0], end=test_data.index[-1])\n",
    "validate_predictions = model_fit.predict(start=validate_data.index[0], end=validate_data.index[-1])\n",
    "\n",
    "# Calculate RMSE for test and validate sets\n",
    "test_rmse = np.sqrt(mean_squared_error(test_data, test_predictions))\n",
    "validate_rmse = np.sqrt(mean_squared_error(validate_data, validate_predictions))\n",
    "\n",
    "print(\"Test RMSE:\", test_rmse)\n",
    "print(\"Validate RMSE:\", validate_rmse)"
   ]
  },
  {
   "cell_type": "code",
   "execution_count": 7,
   "id": "7bc98e3a",
   "metadata": {
    "scrolled": true
   },
   "outputs": [
    {
     "data": {
      "text/plain": [
       "8743     48.365254\n",
       "8744     48.341542\n",
       "8745     48.340950\n",
       "8746     48.336712\n",
       "8747     48.350147\n",
       "           ...    \n",
       "11236    62.106975\n",
       "11237    62.106384\n",
       "11238    62.102146\n",
       "11239    62.115580\n",
       "11240    62.138150\n",
       "Length: 2498, dtype: float64"
      ]
     },
     "execution_count": 7,
     "metadata": {},
     "output_type": "execute_result"
    }
   ],
   "source": [
    "test_predictions"
   ]
  },
  {
   "cell_type": "code",
   "execution_count": 8,
   "id": "9bec0e9e",
   "metadata": {},
   "outputs": [
    {
     "data": {
      "text/plain": [
       "11241    62.142736\n",
       "11242    62.169354\n",
       "11243    62.145642\n",
       "11244    62.145051\n",
       "11245    62.140813\n",
       "           ...    \n",
       "12486    69.020867\n",
       "12487    69.025453\n",
       "12488    69.052071\n",
       "12489    69.028359\n",
       "12490    69.027768\n",
       "Length: 1250, dtype: float64"
      ]
     },
     "execution_count": 8,
     "metadata": {},
     "output_type": "execute_result"
    }
   ],
   "source": [
    "validate_predictions"
   ]
  },
  {
   "cell_type": "code",
   "execution_count": 9,
   "id": "3ba17bb8",
   "metadata": {},
   "outputs": [
    {
     "name": "stdout",
     "output_type": "stream",
     "text": [
      "Predicted closing prices for the next 30 days:\n",
      "12491    69.023529\n",
      "12492    69.036964\n",
      "12493    69.059534\n",
      "12494    69.064120\n",
      "12495    69.090738\n",
      "12496    69.067026\n",
      "12497    69.066435\n",
      "12498    69.062196\n",
      "12499    69.075631\n",
      "12500    69.098201\n",
      "12501    69.102787\n",
      "12502    69.129405\n",
      "12503    69.105693\n",
      "12504    69.105101\n",
      "12505    69.100863\n",
      "12506    69.114298\n",
      "12507    69.136867\n",
      "12508    69.141454\n",
      "12509    69.168072\n",
      "12510    69.144360\n",
      "12511    69.143768\n",
      "12512    69.139530\n",
      "12513    69.152965\n",
      "12514    69.175534\n",
      "12515    69.180121\n",
      "12516    69.206739\n",
      "12517    69.183027\n",
      "12518    69.182435\n",
      "12519    69.178197\n",
      "12520    69.191632\n",
      "12521    69.214201\n",
      "dtype: float64\n"
     ]
    }
   ],
   "source": [
    "# Bonus 30 index\n",
    "last_index =  df.index[-1]\n",
    "last_data = pd.RangeIndex(start=last_index+1, stop=last_index+32, step=1)\n",
    "\n",
    "# Predict the closing prices for the next 30 days\n",
    "y_next_30_days = model_fit.predict(last_index+1, last_index+31)\n",
    "\n",
    "# Print the predicted closing prices for the next 30 days\n",
    "print('Predicted closing prices for the next 30 days:')\n",
    "print(y_next_30_days)"
   ]
  },
  {
   "cell_type": "code",
   "execution_count": 10,
   "id": "bba8d914",
   "metadata": {},
   "outputs": [
    {
     "data": {
      "text/plain": [
       "[<matplotlib.lines.Line2D at 0x1871fafa1a0>]"
      ]
     },
     "execution_count": 10,
     "metadata": {},
     "output_type": "execute_result"
    },
    {
     "data": {
      "image/png": "[encoded data removed]",
      "text/plain": [
       "<Figure size 640x480 with 1 Axes>"
      ]
     },
     "metadata": {},
     "output_type": "display_data"
    }
   ],
   "source": [
    "plt.plot(last_data, y_next_30_days)"
   ]
  },
  {
   "cell_type": "code",
   "execution_count": 11,
   "id": "15c6a0be",
   "metadata": {},
   "outputs": [
    {
     "data": {
      "image/png": "[encoded data removed]",
      "text/plain": [
       "<Figure size 640x480 with 1 Axes>"
      ]
     },
     "metadata": {},
     "output_type": "display_data"
    }
   ],
   "source": [
    "plt.plot(train_data.index, train_data)\n",
    "plt.plot(test_data.index, test_data)\n",
    "plt.plot(validate_data.index, validate_data)\n",
    "plt.plot(test_data.index, test_predictions)\n",
    "plt.plot(validate_data.index, validate_predictions)\n",
    "plt.plot(last_data, y_next_30_days)\n",
    "plt.legend(['Train data', 'Test data', 'Validate data', 'Test Predictions','Validate Predictions','Next 30 days'])\n",
    "plt.show()"
   ]
  },
  {
   "cell_type": "code",
   "execution_count": null,
   "id": "d53ead55",
   "metadata": {},
   "outputs": [],
   "source": []
  }
 ],
 "metadata": {
  "kernelspec": {
   "display_name": "Python 3 (ipykernel)",
   "language": "python",
   "name": "python3"
  },
  "language_info": {
   "codemirror_mode": {
    "name": "ipython",
    "version": 3
   },
   "file_extension": ".py",
   "mimetype": "text/x-python",
   "name": "python",
   "nbconvert_exporter": "python",
   "pygments_lexer": "ipython3",
   "version": "3.10.3"
  }
 },
 "nbformat": 4,
 "nbformat_minor": 5
}
